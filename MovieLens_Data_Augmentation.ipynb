{
  "cells": [
    {
      "cell_type": "markdown",
      "source": [
        "### Data Augmentation for Negative Implicit Feedback Data"
      ],
      "metadata": {
        "id": "oACMQfFXaaFu"
      }
    },
    {
      "cell_type": "code",
      "execution_count": null,
      "metadata": {
        "id": "V9rCnrWzlJ_f"
      },
      "outputs": [],
      "source": [
        "import numpy as np\n",
        "import pandas as pd\n",
        "import seaborn as sns\n",
        "from tqdm import tqdm\n",
        "import matplotlib.pyplot as plt\n",
        "from google.colab import files\n",
        "from google.colab import drive\n",
        "\n",
        "from IPython.core.interactiveshell import InteractiveShell\n",
        "InteractiveShell.ast_node_interactivity = \"all\""
      ]
    },
    {
      "cell_type": "code",
      "execution_count": null,
      "metadata": {
        "colab": {
          "base_uri": "https://localhost:8080/"
        },
        "id": "AuwW6w0ro8OP",
        "outputId": "3ca57e15-cac7-4129-b2a3-b4dab0d9639f"
      },
      "outputs": [
        {
          "output_type": "stream",
          "name": "stdout",
          "text": [
            "Mounted at /content/drive\n"
          ]
        }
      ],
      "source": [
        "drive.mount('/content/drive')"
      ]
    },
    {
      "cell_type": "code",
      "source": [
        "ratings = pd.read_csv('/content/drive/MyDrive/dataset/rating.csv')\n",
        "ratings['timestamp'] = pd.to_datetime(ratings['timestamp'])\n",
        "\n",
        "# Only considering recent 1.4M transactional data, given the compute constraint\n",
        "ratings = ratings[ratings['timestamp'].dt.year > 2012]\n",
        "ratings.to_csv('/content/drive/MyDrive/small_dataset/rating.csv', index=False)\n",
        "\n",
        "# Make the most recent interaction as the test dataset\n",
        "ratings['rank_latest'] = ratings.groupby(['userId'])['timestamp'].rank(method='first', ascending=False)\n",
        "cleaned_ratings = ratings.drop(columns=['timestamp'])\n",
        "\n",
        "train_ratings = cleaned_ratings[ratings['rank_latest'] != 1]\n",
        "test_ratings = cleaned_ratings[ratings['rank_latest'] == 1]\n",
        "\n",
        "test_ratings.head()\n",
        "print(f'Shape: {test_ratings.shape}')"
      ],
      "metadata": {
        "id": "iYB_PDyECULS",
        "colab": {
          "base_uri": "https://localhost:8080/",
          "height": 223
        },
        "outputId": "569f61a7-3e6e-43d6-a76c-25c6faaa54e4"
      },
      "execution_count": null,
      "outputs": [
        {
          "output_type": "execute_result",
          "data": {
            "text/plain": [
              "      userId  movieId  rating  rank_latest\n",
              "3548      31     2096     2.0          1.0\n",
              "4482      42     1250     3.0          1.0\n",
              "4965      49     2858     3.5          1.0\n",
              "7012      59     1230     4.0          1.0\n",
              "8037      71   104337     3.5          1.0"
            ],
            "text/html": [
              "\n",
              "  <div id=\"df-384aa818-15d1-4538-89fc-4b372cae51ea\">\n",
              "    <div class=\"colab-df-container\">\n",
              "      <div>\n",
              "<style scoped>\n",
              "    .dataframe tbody tr th:only-of-type {\n",
              "        vertical-align: middle;\n",
              "    }\n",
              "\n",
              "    .dataframe tbody tr th {\n",
              "        vertical-align: top;\n",
              "    }\n",
              "\n",
              "    .dataframe thead th {\n",
              "        text-align: right;\n",
              "    }\n",
              "</style>\n",
              "<table border=\"1\" class=\"dataframe\">\n",
              "  <thead>\n",
              "    <tr style=\"text-align: right;\">\n",
              "      <th></th>\n",
              "      <th>userId</th>\n",
              "      <th>movieId</th>\n",
              "      <th>rating</th>\n",
              "      <th>rank_latest</th>\n",
              "    </tr>\n",
              "  </thead>\n",
              "  <tbody>\n",
              "    <tr>\n",
              "      <th>3548</th>\n",
              "      <td>31</td>\n",
              "      <td>2096</td>\n",
              "      <td>2.0</td>\n",
              "      <td>1.0</td>\n",
              "    </tr>\n",
              "    <tr>\n",
              "      <th>4482</th>\n",
              "      <td>42</td>\n",
              "      <td>1250</td>\n",
              "      <td>3.0</td>\n",
              "      <td>1.0</td>\n",
              "    </tr>\n",
              "    <tr>\n",
              "      <th>4965</th>\n",
              "      <td>49</td>\n",
              "      <td>2858</td>\n",
              "      <td>3.5</td>\n",
              "      <td>1.0</td>\n",
              "    </tr>\n",
              "    <tr>\n",
              "      <th>7012</th>\n",
              "      <td>59</td>\n",
              "      <td>1230</td>\n",
              "      <td>4.0</td>\n",
              "      <td>1.0</td>\n",
              "    </tr>\n",
              "    <tr>\n",
              "      <th>8037</th>\n",
              "      <td>71</td>\n",
              "      <td>104337</td>\n",
              "      <td>3.5</td>\n",
              "      <td>1.0</td>\n",
              "    </tr>\n",
              "  </tbody>\n",
              "</table>\n",
              "</div>\n",
              "      <button class=\"colab-df-convert\" onclick=\"convertToInteractive('df-384aa818-15d1-4538-89fc-4b372cae51ea')\"\n",
              "              title=\"Convert this dataframe to an interactive table.\"\n",
              "              style=\"display:none;\">\n",
              "        \n",
              "  <svg xmlns=\"http://www.w3.org/2000/svg\" height=\"24px\"viewBox=\"0 0 24 24\"\n",
              "       width=\"24px\">\n",
              "    <path d=\"M0 0h24v24H0V0z\" fill=\"none\"/>\n",
              "    <path d=\"M18.56 5.44l.94 2.06.94-2.06 2.06-.94-2.06-.94-.94-2.06-.94 2.06-2.06.94zm-11 1L8.5 8.5l.94-2.06 2.06-.94-2.06-.94L8.5 2.5l-.94 2.06-2.06.94zm10 10l.94 2.06.94-2.06 2.06-.94-2.06-.94-.94-2.06-.94 2.06-2.06.94z\"/><path d=\"M17.41 7.96l-1.37-1.37c-.4-.4-.92-.59-1.43-.59-.52 0-1.04.2-1.43.59L10.3 9.45l-7.72 7.72c-.78.78-.78 2.05 0 2.83L4 21.41c.39.39.9.59 1.41.59.51 0 1.02-.2 1.41-.59l7.78-7.78 2.81-2.81c.8-.78.8-2.07 0-2.86zM5.41 20L4 18.59l7.72-7.72 1.47 1.35L5.41 20z\"/>\n",
              "  </svg>\n",
              "      </button>\n",
              "      \n",
              "  <style>\n",
              "    .colab-df-container {\n",
              "      display:flex;\n",
              "      flex-wrap:wrap;\n",
              "      gap: 12px;\n",
              "    }\n",
              "\n",
              "    .colab-df-convert {\n",
              "      background-color: #E8F0FE;\n",
              "      border: none;\n",
              "      border-radius: 50%;\n",
              "      cursor: pointer;\n",
              "      display: none;\n",
              "      fill: #1967D2;\n",
              "      height: 32px;\n",
              "      padding: 0 0 0 0;\n",
              "      width: 32px;\n",
              "    }\n",
              "\n",
              "    .colab-df-convert:hover {\n",
              "      background-color: #E2EBFA;\n",
              "      box-shadow: 0px 1px 2px rgba(60, 64, 67, 0.3), 0px 1px 3px 1px rgba(60, 64, 67, 0.15);\n",
              "      fill: #174EA6;\n",
              "    }\n",
              "\n",
              "    [theme=dark] .colab-df-convert {\n",
              "      background-color: #3B4455;\n",
              "      fill: #D2E3FC;\n",
              "    }\n",
              "\n",
              "    [theme=dark] .colab-df-convert:hover {\n",
              "      background-color: #434B5C;\n",
              "      box-shadow: 0px 1px 3px 1px rgba(0, 0, 0, 0.15);\n",
              "      filter: drop-shadow(0px 1px 2px rgba(0, 0, 0, 0.3));\n",
              "      fill: #FFFFFF;\n",
              "    }\n",
              "  </style>\n",
              "\n",
              "      <script>\n",
              "        const buttonEl =\n",
              "          document.querySelector('#df-384aa818-15d1-4538-89fc-4b372cae51ea button.colab-df-convert');\n",
              "        buttonEl.style.display =\n",
              "          google.colab.kernel.accessAllowed ? 'block' : 'none';\n",
              "\n",
              "        async function convertToInteractive(key) {\n",
              "          const element = document.querySelector('#df-384aa818-15d1-4538-89fc-4b372cae51ea');\n",
              "          const dataTable =\n",
              "            await google.colab.kernel.invokeFunction('convertToInteractive',\n",
              "                                                     [key], {});\n",
              "          if (!dataTable) return;\n",
              "\n",
              "          const docLinkHtml = 'Like what you see? Visit the ' +\n",
              "            '<a target=\"_blank\" href=https://colab.research.google.com/notebooks/data_table.ipynb>data table notebook</a>'\n",
              "            + ' to learn more about interactive tables.';\n",
              "          element.innerHTML = '';\n",
              "          dataTable['output_type'] = 'display_data';\n",
              "          await google.colab.output.renderOutput(dataTable, element);\n",
              "          const docLink = document.createElement('div');\n",
              "          docLink.innerHTML = docLinkHtml;\n",
              "          element.appendChild(docLink);\n",
              "        }\n",
              "      </script>\n",
              "    </div>\n",
              "  </div>\n",
              "  "
            ]
          },
          "metadata": {},
          "execution_count": 3
        },
        {
          "output_type": "stream",
          "name": "stdout",
          "text": [
            "Shape: (14315, 4)\n"
          ]
        }
      ]
    },
    {
      "cell_type": "code",
      "source": [
        "# Create train and test datasets\n",
        "train_ratings.to_csv('/content/drive/MyDrive/small_dataset/train_dataset.csv', index=False)\n",
        "test_ratings.to_csv('/content/drive/MyDrive/small_dataset/test_dataset.csv', index=False)"
      ],
      "metadata": {
        "id": "l1Db9G5vSiy0"
      },
      "execution_count": null,
      "outputs": []
    },
    {
      "cell_type": "code",
      "source": [
        "users, items, labels = train_ratings['userId'].to_list(), train_ratings['movieId'].to_list(), list(np.ones(train_ratings.shape[0]))\n",
        "\n",
        "movie_ids = train_ratings['movieId'].unique()\n",
        "user_movie_list = zip(train_ratings['userId'], train_ratings['movieId'])\n",
        "\n",
        "# The set is used only for faster lookup. There are no duplicates here\n",
        "user_movie_set = set(user_movie_list)\n",
        "\n",
        "# Create 4 negative interaction points for each user\n",
        "for (u, i) in tqdm(user_movie_set):\n",
        "    for _ in range(4):\n",
        "        negative_item = np.random.choice(movie_ids) \n",
        "        while (u, negative_item) in user_movie_set:\n",
        "            negative_item = np.random.choice(movie_ids)\n",
        "        users.append(u)\n",
        "        items.append(negative_item)\n",
        "        labels.append(0)"
      ],
      "metadata": {
        "id": "9dl-ycv924ms",
        "colab": {
          "base_uri": "https://localhost:8080/"
        },
        "outputId": "bca6c571-545e-4724-d098-640d36aac534"
      },
      "execution_count": null,
      "outputs": [
        {
          "output_type": "stream",
          "name": "stderr",
          "text": [
            "100%|██████████| 1431786/1431786 [01:42<00:00, 13923.73it/s]\n"
          ]
        }
      ]
    },
    {
      "cell_type": "code",
      "source": [
        "dataset = pd.DataFrame({'userId': users, 'movieId': items, 'label': labels})\n",
        "dataset.to_csv('/content/drive/MyDrive/small_dataset/augmented_dataset.csv', index=False)"
      ],
      "metadata": {
        "id": "fNNyvB4EKxwf"
      },
      "execution_count": null,
      "outputs": []
    },
    {
      "cell_type": "code",
      "source": [
        "dataset['label'].value_counts()"
      ],
      "metadata": {
        "colab": {
          "base_uri": "https://localhost:8080/"
        },
        "id": "1UhyIWufumbP",
        "outputId": "2d5f167c-2261-4368-ca2e-e0e9a725137f"
      },
      "execution_count": null,
      "outputs": [
        {
          "output_type": "execute_result",
          "data": {
            "text/plain": [
              "0.0    5727144\n",
              "1.0    1431786\n",
              "Name: label, dtype: int64"
            ]
          },
          "metadata": {},
          "execution_count": 13
        }
      ]
    },
    {
      "cell_type": "code",
      "source": [
        "users, items = test_ratings['userId'].to_list(), test_ratings['movieId'].to_list()\n",
        "\n",
        "movie_ids = ratings['movieId'].unique()\n",
        "user_test_movie_list = zip(test_ratings['userId'], test_ratings['movieId'])\n",
        "\n",
        "# The set is used only for faster lookup. There are no duplicates here\n",
        "user_test_movie_set = set(user_test_movie_list)\n",
        "\n",
        "# Create 99 negative interaction points for each user to create the 100 count sample\n",
        "for (u, i) in tqdm(user_test_movie_set):\n",
        "\n",
        "    for _ in range(99):\n",
        "        negative_item = np.random.choice(movie_ids) \n",
        "        while ((u, negative_item) in user_test_movie_set) or ((u, negative_item) in user_movie_set):\n",
        "            negative_item = np.random.choice(movie_ids)\n",
        "        users.append(u)\n",
        "        items.append(negative_item)"
      ],
      "metadata": {
        "id": "3ntN3QIiFtgO",
        "colab": {
          "base_uri": "https://localhost:8080/"
        },
        "outputId": "5495e872-d888-4180-d178-23c47e0700d5"
      },
      "execution_count": null,
      "outputs": [
        {
          "output_type": "stream",
          "name": "stderr",
          "text": [
            "100%|██████████| 14315/14315 [00:23<00:00, 600.14it/s]\n"
          ]
        }
      ]
    },
    {
      "cell_type": "code",
      "source": [
        "dataset = pd.DataFrame({'userId': users, 'movieId': items})\n",
        "dataset.to_csv('/content/drive/MyDrive/small_dataset/augmented_test_dataset.csv', index=False)"
      ],
      "metadata": {
        "id": "o9yf_QJZTw1-"
      },
      "execution_count": null,
      "outputs": []
    }
  ],
  "metadata": {
    "colab": {
      "provenance": [],
      "machine_shape": "hm"
    },
    "gpuClass": "standard",
    "kernelspec": {
      "display_name": "Python 3",
      "name": "python3"
    },
    "language_info": {
      "name": "python"
    }
  },
  "nbformat": 4,
  "nbformat_minor": 0
}